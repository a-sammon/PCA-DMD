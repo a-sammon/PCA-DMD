{
  "cells": [
    {
      "cell_type": "code",
      "execution_count": null,
      "metadata": {
        "id": "tjps8OPDOOoO"
      },
      "outputs": [],
      "source": [
        "!pip install scipy\n",
        "!pip install matplotlib\n",
        "!pip install pydmd\n",
        "!pip install pykoopman\n",
        "!pip install imageio\n",
        "!pip install os\n",
        "!pip install optht\n",
        "!pip install derivative\n",
        "!pip install lightning\n",
        "!pip install imread\n",
        "!pip install future\n",
        "!pip install sphinx\n",
        "\n",
        "\n",
        "import os\n",
        "import matplotlib.pyplot as plt\n",
        "import warnings\n",
        "import scipy\n",
        "import imageio\n",
        "warnings.filterwarnings('ignore')\n",
        "\n",
        "from pydmd import DMD\n",
        "from matplotlib import animation\n",
        "from IPython.display import HTML\n",
        "import numpy as np\n",
        "from os import listdir\n",
        "import pykoopman as pk\n",
        "import pandas as pd\n",
        "from imread import imread\n",
        "\n",
        "%matplotlib inline\n",
        "\n",
        "import future\n",
        "import sphinx\n",
        "\n",
        "from sklearn.decomposition import PCA\n",
        "\n",
        "\n",
        "from sklearn.preprocessing import StandardScaler\n",
        "from pydmd import DMDc\n",
        "from numpy.testing import assert_array_almost_equal\n",
        "\n",
        "from numpy import linalg as LA\n",
        "from pydmd import CDMD\n",
        "\n",
        "from sklearn.datasets import fetch_openml\n",
        "import sys\n",
        "import cv2 as cv\n",
        "import plotly.io as pio\n",
        "import plotly.graph_objs as go\n",
        "from PIL import Image\n",
        "from skimage import color\n",
        "from plotly import subplots\n",
        "from sklearn.model_selection import train_test_split\n",
        "pio.renderers.default = \"colab\"\n",
        "from sklearn.decomposition import SparsePCA\n",
        "import seaborn as sns"
      ]
    },
    {
      "cell_type": "code",
      "execution_count": null,
      "metadata": {
        "id": "T6KfxL3zQnZh"
      },
      "outputs": [],
      "source": [
        "import scipy\n",
        "import scipy.integrate\n",
        "from skimage.metrics import mean_squared_error as mse\n",
        "from skimage.metrics import structural_similarity as ssim"
      ]
    },
    {
      "cell_type": "code",
      "execution_count": null,
      "metadata": {
        "id": "vtjQzDzxZvS4"
      },
      "outputs": [],
      "source": [
        "IMG_DIR = '/content/images'\n",
        "X = []\n",
        "X_flat = []\n",
        "count = 1\n",
        "size1 = 137\n",
        "size2 = 490\n",
        "total = 560\n",
        "print(\"Loading...\")\n",
        "\n",
        "# Define a function to extract the ending number from a filename\n",
        "def get_file_number(filename):\n",
        "    return int(''.join(filter(str.isdigit, filename)))\n",
        "\n",
        "# Get a list of image files sorted by the ending number\n",
        "sorted_images = sorted(os.listdir(IMG_DIR), key=get_file_number)\n",
        "\n",
        "for img in sorted_images:\n",
        "    if count == total + 1:\n",
        "        break\n",
        "    sys.stdout.write(\"\\r\" + str(count) + \" / \" + str(total))\n",
        "    sys.stdout.flush()\n",
        "    img_array = cv.imread(os.path.join(IMG_DIR, img), cv.IMREAD_GRAYSCALE,)\n",
        "    img_pil = Image.fromarray(img_array)\n",
        "    img_156x120 = np.array(img_pil.resize((size1, size2), Image.ANTIALIAS))\n",
        "    X.append(img_156x120)\n",
        "    img_array = img_156x120.flatten()\n",
        "    X_flat.append(img_array)\n",
        "    count += 1\n",
        "print()\n",
        "print(\"Done!\")\n"
      ]
    },
    {
      "cell_type": "code",
      "execution_count": null,
      "metadata": {
        "id": "t78QikoCP5a9"
      },
      "outputs": [],
      "source": [
        "X_flat = np.asarray(X_flat)\n",
        "X_flat.shape"
      ]
    },
    {
      "cell_type": "code",
      "execution_count": null,
      "metadata": {
        "id": "Vr4qwVgNQSEy"
      },
      "outputs": [],
      "source": [
        "velocity_magnitude_2D_array = X_flat.T\n",
        "velocity_magnitude_2D_array.shape"
      ]
    },
    {
      "cell_type": "code",
      "execution_count": null,
      "metadata": {
        "id": "GKNuaoEjQDFm"
      },
      "outputs": [],
      "source": [
        "plt.figure(figsize=(10, 5))\n",
        "plt.imshow(velocity_magnitude_2D_array[:, 476].reshape(490,137), cmap='jet')\n",
        "plt.axis('off')\n",
        "plt.tight_layout()\n",
        "plt.show"
      ]
    },
    {
      "cell_type": "code",
      "execution_count": null,
      "metadata": {
        "id": "vYfMZ4iDaKdt"
      },
      "outputs": [],
      "source": [
        "Z = velocity_magnitude_2D_array\n",
        "\n",
        "# Perform DMD\n",
        "dmdo = DMD(svd_rank=560)\n",
        "dmdo.fit(Z)\n",
        "\n",
        "# Access DMD modes and dynamics\n",
        "modeso = dmdo.modes.T\n",
        "dynamicso = dmdo.dynamics\n",
        "\n",
        "# Visualize DMD modes and dynamics\n",
        "plt.figure(figsize=(12, 4))\n",
        "\n",
        "# Plot DMD modes\n",
        "plt.subplot(1, 2, 1)\n",
        "for mode in modeso:\n",
        "    plt.plot(mode)\n",
        "plt.title('DMD Modes')\n",
        "\n",
        "# Plot DMD dynamics\n",
        "plt.subplot(1, 2, 2)\n",
        "for dynamic in dynamicso:\n",
        "    plt.plot(dynamic)\n",
        "plt.title('DMD Dynamics')\n",
        "\n",
        "plt.tight_layout()\n",
        "plt.show()"
      ]
    },
    {
      "cell_type": "code",
      "execution_count": null,
      "metadata": {
        "id": "ZInMnn0Pa8LY"
      },
      "outputs": [],
      "source": [
        "eigenvalues = dmdo.eigs\n",
        "\n",
        "# Calculate distance from unit circle\n",
        "distances = np.abs(eigenvalues.imag**2 + eigenvalues.real**2 - 1)\n",
        "\n",
        "# Plot eigenvalues and unit circle\n",
        "plt.figure()\n",
        "plt.scatter(eigenvalues.real, eigenvalues.imag, c=distances, cmap='viridis', alpha=0.6)\n",
        "plt.colorbar(label='Distance from unit circle')\n",
        "plt.xlabel('Real')\n",
        "plt.ylabel('Imaginary')\n",
        "plt.title('Eigenvalues')\n",
        "\n",
        "# Plot unit circle\n",
        "theta = np.linspace(0, 2 * np.pi, 100)\n",
        "plt.plot(np.cos(theta), np.sin(theta), color='red', linestyle='--', label='Unit Circle')\n",
        "plt.legend()\n",
        "\n",
        "plt.show()"
      ]
    },
    {
      "cell_type": "code",
      "execution_count": null,
      "metadata": {
        "id": "b4Vjp-adbA5T"
      },
      "outputs": [],
      "source": [
        "approximate = dmd.reconstructed_data\n",
        "approximate = approximate.astype(np.float)\n",
        "approximate.shape"
      ]
    },
    {
      "cell_type": "code",
      "execution_count": null,
      "metadata": {
        "id": "1Ms9Njo_bE2f"
      },
      "outputs": [],
      "source": [
        "plt.figure(figsize=(10, 5))\n",
        "plt.imshow(approximate[:, 170].reshape(490,137), cmap='jet')\n",
        "plt.axis('off')\n",
        "plt.tight_layout()\n",
        "plt.show"
      ]
    },
    {
      "cell_type": "code",
      "execution_count": null,
      "metadata": {
        "id": "Xen5p56K3fe7"
      },
      "outputs": [],
      "source": [
        "snapshots_matrix = velocity_magnitude_2D_array\n",
        "random_matrix = np.random.permutation(\n",
        "    snapshots_matrix.shape[0] * snapshots_matrix.shape[1]\n",
        ")\n",
        "random_matrix = random_matrix.reshape(\n",
        "    snapshots_matrix.shape[1], snapshots_matrix.shape[0]\n",
        ")\n",
        "\n",
        "compression_matrix = random_matrix / np.linalg.norm(random_matrix)"
      ]
    },
    {
      "cell_type": "code",
      "execution_count": null,
      "metadata": {
        "id": "FdPmaetw3jSO"
      },
      "outputs": [],
      "source": [
        "cdmd = CDMD(svd_rank=0, compression_matrix=compression_matrix)\n",
        "cdmd.fit(snapshots_matrix)\n",
        "\n",
        "plt.figure(figsize=(16, 8))\n",
        "plt.subplot(1, 2, 1)\n",
        "plt.plot(cdmd.modes.real)\n",
        "plt.subplot(1, 2, 2)\n",
        "plt.plot(cdmd.dynamics.T.real)\n",
        "plt.show()"
      ]
    },
    {
      "cell_type": "code",
      "execution_count": null,
      "metadata": {
        "id": "RXuP3dIn4TBe"
      },
      "outputs": [],
      "source": [
        "eigenvalues = cdmd.eigs\n",
        "\n",
        "# Calculate distance from unit circle\n",
        "distances = np.abs(eigenvalues.imag**2 + eigenvalues.real**2 - 1)\n",
        "\n",
        "# Plot eigenvalues and unit circle\n",
        "plt.figure()\n",
        "plt.scatter(eigenvalues.real, eigenvalues.imag, c=distances, cmap='viridis', alpha=0.6)\n",
        "plt.colorbar(label='Distance from unit circle')\n",
        "plt.xlabel('Real')\n",
        "plt.ylabel('Imaginary')\n",
        "plt.title('Eigenvalues')\n",
        "\n",
        "# Plot unit circle\n",
        "theta = np.linspace(0, 2 * np.pi, 100)\n",
        "plt.plot(np.cos(theta), np.sin(theta), color='red', linestyle='--', label='Unit Circle')\n",
        "plt.legend()\n",
        "\n",
        "plt.show()"
      ]
    },
    {
      "cell_type": "code",
      "execution_count": null,
      "metadata": {
        "id": "dvtsEy5f3x6E"
      },
      "outputs": [],
      "source": [
        "cdmd_approx = cdmd.reconstructed_data\n",
        "cdmd_approx = approximate.astype(np.float)\n",
        "cdmd_approx.shape"
      ]
    },
    {
      "cell_type": "code",
      "source": [
        "train = X_flat[:555,:]\n",
        "train.shape"
      ],
      "metadata": {
        "id": "_Yhfwkkp6oMt"
      },
      "execution_count": null,
      "outputs": []
    },
    {
      "cell_type": "code",
      "execution_count": null,
      "metadata": {
        "id": "TcnJsqXmbWoM"
      },
      "outputs": [],
      "source": [
        "pca = PCA(n_components=total)\n",
        "PC = pca.fit_transform(X_flat)\n",
        "eigenvalues = pca.explained_variance_\n",
        "explained_variance_ratio = pca.explained_variance_ratio_"
      ]
    },
    {
      "cell_type": "code",
      "execution_count": null,
      "metadata": {
        "id": "GGXa6rKHaBMT"
      },
      "outputs": [],
      "source": [
        "num_displayed_components = 320  # Number of components to display\n",
        "bar_width = 0.5\n",
        "\n",
        "plt.bar(range(1, num_displayed_components + 1), explained_variance_ratio[:num_displayed_components], width=bar_width)\n",
        "plt.xlabel('Principal Component')\n",
        "plt.ylabel('Explained Variance Ratio')\n",
        "plt.title('Scree Plot')"
      ]
    },
    {
      "cell_type": "code",
      "source": [
        "num_components = len(explained_variance_ratio)\n",
        "bar_width = 0.7\n",
        "plt.bar(range(1, num_components + 1), explained_variance_ratio, width=bar_width)\n",
        "plt.xlabel('Principal Component')\n",
        "plt.ylabel('Explained Variance Ratio (log-scaled)')\n",
        "plt.yscale('log')  # Set y-axis to be logarithmic\n",
        "plt.title('Scree Plot (Log-scaled)')\n",
        "plt.show()"
      ],
      "metadata": {
        "id": "1iWfh1RB4j4D"
      },
      "execution_count": null,
      "outputs": []
    },
    {
      "cell_type": "code",
      "execution_count": null,
      "metadata": {
        "id": "DnPUppu1bc0j"
      },
      "outputs": [],
      "source": [
        "num_components = len(explained_variance_ratio)\n",
        "bar_width = 0.7\n",
        "plt.bar(range(1, num_components + 1), explained_variance_ratio, width=bar_width)\n",
        "plt.xlabel('Principal Component')\n",
        "plt.ylabel('Explained Variance Ratio')\n",
        "plt.title('Scree Plot')\n",
        "plt.show()\n",
        "\n",
        "# Summary table\n",
        "cumulative_explained_variance_ratio = np.cumsum(explained_variance_ratio)\n",
        "summary_table = np.column_stack((range(1, num_components + 1), explained_variance_ratio, cumulative_explained_variance_ratio))\n",
        "print('PC\\tExplained Variance Ratio\\tCumulative Explained Variance Ratio')\n",
        "for row in summary_table:\n",
        "    print('\\t'.join(str(x) for x in row))"
      ]
    },
    {
      "cell_type": "code",
      "execution_count": null,
      "metadata": {
        "id": "_s98Mk5ccEeM"
      },
      "outputs": [],
      "source": [
        "Z = PC.T\n",
        "\n",
        "# Perform DMD\n",
        "dmdpca = DMD(svd_rank=300)\n",
        "dmdpca.fit(Z)\n",
        "\n",
        "# Access DMD modes and dynamics\n",
        "modes_pca = dmdpca.modes.T\n",
        "dynamics_pca = dmdpca.dynamics\n",
        "\n",
        "# Visualize DMD modes and dynamics\n",
        "plt.figure(figsize=(12, 4))\n",
        "\n",
        "# Plot DMD modes\n",
        "plt.subplot(1, 2, 1)\n",
        "for mode in modes_pca:\n",
        "    plt.plot(mode)\n",
        "plt.title('DMD Modes')\n",
        "\n",
        "# Plot DMD dynamics\n",
        "plt.subplot(1, 2, 2)\n",
        "for dynamic in dynamics_pca:\n",
        "    plt.plot(dynamic)\n",
        "plt.title('DMD Dynamics')\n",
        "\n",
        "plt.tight_layout()\n",
        "plt.show()"
      ]
    },
    {
      "cell_type": "code",
      "source": [
        "omega = np.log(dmdo.eigs)\n",
        "omega2 = np.log(dmdpca.eigs)"
      ],
      "metadata": {
        "id": "7g4NZo5dYaFv"
      },
      "execution_count": null,
      "outputs": []
    },
    {
      "cell_type": "code",
      "source": [
        "fig, ax = plt.subplots()\n",
        "colors = np.linspace(0, 1, len(omega))\n",
        "edge_colors = plt.cm.rainbow(colors)\n",
        "ax.scatter(np.real(omega), np.imag(omega), c=colors, cmap='rainbow', marker='o', edgecolors=edge_colors, facecolors='none')\n",
        "#unit_circle = plt.Circle((0, 0), 1, color='green', fill=False, linestyle='dashed')\n",
        "#ax.add_artist(unit_circle)\n",
        "ax.set_aspect('equal', adjustable='datalim')\n",
        "ax.axvline(x=0, color='red', linestyle='dashed')\n",
        "ax.set_xlim([-1.5, 0.5])\n",
        "ax.set_ylim([-0.5, 0.5])\n",
        "plt.xlabel('Real')\n",
        "plt.ylabel('Imaginary')\n",
        "#plt.grid(True)\n",
        "#plt.title('Eigenvalues on the Unit Circle (Positive Imaginary Part)')\n",
        "plt.show()"
      ],
      "metadata": {
        "id": "YFcayZgQYYqQ"
      },
      "execution_count": null,
      "outputs": []
    },
    {
      "cell_type": "code",
      "source": [
        "fig, ax = plt.subplots()\n",
        "colors = np.linspace(0, 1, len(omega2))\n",
        "edge_colors = plt.cm.rainbow(colors)\n",
        "ax.scatter(np.real(omega2), np.imag(omega2), c=colors, cmap='rainbow', marker='o', edgecolors=edge_colors, facecolors='none')\n",
        "#unit_circle = plt.Circle((0, 0), 1, color='green', fill=False, linestyle='dashed')\n",
        "#ax.add_artist(unit_circle)\n",
        "ax.set_aspect('equal', adjustable='datalim')\n",
        "ax.axvline(x=0, color='red', linestyle='dashed')\n",
        "ax.set_xlim([-1.5, 0.5])\n",
        "ax.set_ylim([-0.5, 0.5])\n",
        "plt.xlabel('Real')\n",
        "plt.ylabel('Imaginary')\n",
        "#plt.grid(True)\n",
        "#plt.title('Eigenvalues on the Unit Circle (Positive Imaginary Part)')\n",
        "plt.show()"
      ],
      "metadata": {
        "id": "TJtuoovzZU6c"
      },
      "execution_count": null,
      "outputs": []
    },
    {
      "cell_type": "code",
      "execution_count": null,
      "metadata": {
        "id": "PoDQQANzcpTY"
      },
      "outputs": [],
      "source": [
        "eigenvalues = dmdpca.eigs\n",
        "\n",
        "# Calculate distance from unit circle\n",
        "distances = np.abs(eigenvalues.imag**2 + eigenvalues.real**2 - 1)\n",
        "\n",
        "# Plot eigenvalues and unit circle\n",
        "plt.figure()\n",
        "plt.scatter(eigenvalues.real, eigenvalues.imag, c=distances, cmap='viridis', alpha=0.6)\n",
        "plt.colorbar(label='Distance from unit circle')\n",
        "plt.xlabel('Real')\n",
        "plt.ylabel('Imaginary')\n",
        "plt.title('Eigenvalues')\n",
        "\n",
        "# Plot unit circle\n",
        "theta = np.linspace(0, 2 * np.pi, 100)\n",
        "plt.plot(np.cos(theta), np.sin(theta), color='red', linestyle='--', label='Unit Circle')\n",
        "plt.legend()\n",
        "\n",
        "plt.show()"
      ]
    },
    {
      "cell_type": "code",
      "execution_count": null,
      "metadata": {
        "id": "jtZEd6Gxdqcn"
      },
      "outputs": [],
      "source": [
        "recon = pca.inverse_transform(dmdpca.reconstructed_data.T)\n",
        "recon = recon.astype(np.float)\n",
        "recon.shape"
      ]
    },
    {
      "cell_type": "code",
      "execution_count": null,
      "metadata": {
        "id": "UoupDeRwd8QD"
      },
      "outputs": [],
      "source": [
        "plt.figure(figsize=(10, 5))\n",
        "plt.imshow(recon.T[:, 530].reshape(490,137), cmap='jet')\n",
        "plt.axis('off')\n",
        "plt.tight_layout()\n",
        "plt.show"
      ]
    },
    {
      "cell_type": "code",
      "execution_count": null,
      "metadata": {
        "id": "k1myLL62euMg"
      },
      "outputs": [],
      "source": [
        "i = 0\n",
        "total = 560\n",
        "\n",
        "for i in range(0, 560, 1):\n",
        "    if i == total + 1:\n",
        "       break\n",
        "    images_dir = '/content/cDMDrecon_2'\n",
        "    plt.figure(figsize=(10,5));\n",
        "    plt.imshow(cdmd_approx[:, i].reshape(490,137), cmap='jet');\n",
        "    plt.axis('off');\n",
        "    plt.tight_layout();\n",
        "    plt.savefig(f\"{images_dir}/label{[i]}.png\", bbox_inches='tight')\n",
        "    #plt.savefig('approximate[i].png')"
      ]
    },
    {
      "cell_type": "code",
      "execution_count": null,
      "metadata": {
        "id": "vv6iM7GNfNr4"
      },
      "outputs": [],
      "source": [
        "import shutil\n",
        "shutil.make_archive('/content/cDMDrecon_2', 'zip', '/content/cDMDrecon_2')"
      ]
    },
    {
      "cell_type": "code",
      "execution_count": null,
      "metadata": {
        "id": "SRo007pgUr5t"
      },
      "outputs": [],
      "source": [
        "def explainedVariance(percentage, images):\n",
        "    # percentage should be a decimal from 0 to 1\n",
        "    pca = PCA(percentage)\n",
        "    pca.fit(images)\n",
        "    PC = pca.transform(images)\n",
        "\n",
        "    dmd = DMD(svd_rank= 0)\n",
        "    dmd.fit(PC.T)\n",
        "    approxOriginal = pca.inverse_transform(dmd.reconstructed_data.T)\n",
        "    approxOriginal = approxOriginal.T.astype(np.float)\n",
        "    return approxOriginal"
      ]
    },
    {
      "cell_type": "code",
      "execution_count": null,
      "metadata": {
        "id": "k7FLz51aVIsw"
      },
      "outputs": [],
      "source": [
        "plt.figure(figsize=(10, 5))\n",
        "plt.imshow(explainedVariance(.99, X_flat)[:, 550].reshape(490,137), cmap='jet')\n",
        "plt.axis('off')\n",
        "plt.tight_layout()\n",
        "plt.show"
      ]
    },
    {
      "cell_type": "code",
      "execution_count": null,
      "metadata": {
        "id": "MmaJdj9VdiUH"
      },
      "outputs": [],
      "source": [
        "pca999 = explainedVariance(.999, X_flat)\n",
        "pca990 = explainedVariance(.99, X_flat)\n",
        "pca950 = explainedVariance(.95, X_flat)\n",
        "pca900 = explainedVariance(.90, X_flat)"
      ]
    },
    {
      "cell_type": "code",
      "execution_count": null,
      "metadata": {
        "id": "nF1-ufxJVhAF"
      },
      "outputs": [],
      "source": [
        "ssim_values_DMD = []\n",
        "ssim_values_pca_999 = []\n",
        "ssim_values_pca_990 = []\n",
        "ssim_values_pca_950 = []\n",
        "ssim_values_pca_900 = []\n",
        "\n",
        "i = 0\n",
        "total = 560\n",
        "\n",
        "for i in range(0, 560, 1):\n",
        "    if i == total + 1:\n",
        "       break\n",
        "    ssim_value = ssim(X_flat[i].reshape(490,137), approximate[:, i].reshape(490,137))\n",
        "    ssim_values_DMD.append(ssim_value)\n",
        "\n",
        "for i in range(0, 560, 1):\n",
        "    if i == total + 1:\n",
        "       break\n",
        "    ssim_value = ssim(X_flat[i].reshape(490,137), pca999[:, i].reshape(490,137))\n",
        "    ssim_values_pca_999.append(ssim_value)\n",
        "\n",
        "for i in range(0, 560, 1):\n",
        "    if i == total + 1:\n",
        "       break\n",
        "    ssim_value = ssim(X_flat[i].reshape(490,137), pca990[:, i].reshape(490,137))\n",
        "    ssim_values_pca_990.append(ssim_value)\n",
        "\n",
        "for i in range(0, 560, 1):\n",
        "    if i == total + 1:\n",
        "       break\n",
        "    ssim_value = ssim(X_flat[i].reshape(490,137), pca950[:, i].reshape(490,137))\n",
        "    ssim_values_pca_950.append(ssim_value)\n",
        "\n",
        "for i in range(0, 560, 1):\n",
        "    if i == total + 1:\n",
        "       break\n",
        "    ssim_value = ssim(X_flat[i].reshape(490,137), pca900[:, i].reshape(490,137))\n",
        "    ssim_values_pca_900.append(ssim_value)\n"
      ]
    },
    {
      "cell_type": "code",
      "execution_count": null,
      "metadata": {
        "id": "afZQsUxMWcgc"
      },
      "outputs": [],
      "source": [
        "plt.plot(range(1, total + 1), ssim_values_DMD, marker='', label='DMD')\n",
        "plt.plot(range(1, total + 1), ssim_values_pca_999, marker='', label='DMD+PCA(99.9%)')\n",
        "plt.plot(range(1, total + 1), ssim_values_pca_990, marker='', label='DMD+PCA(99.0%)')\n",
        "plt.plot(range(1, total + 1), ssim_values_pca_950, marker='', label='DMD+PCA(95.0%)')\n",
        "plt.plot(range(1, total + 1), ssim_values_pca_900, marker='', label='DMD+PCA(90.0%)')\n",
        "\n",
        "plt.xlabel(\"Image Comparison\")\n",
        "plt.ylabel(\"Structural Similarity Index (ssim)\")\n",
        "plt.title(\"ssim for Image Comparisons\")\n",
        "plt.grid(True)\n",
        "plt.legend()\n",
        "plt.show()"
      ]
    },
    {
      "cell_type": "code",
      "execution_count": null,
      "metadata": {
        "id": "eDSexlLsONR1"
      },
      "outputs": [],
      "source": [
        "def RetainedVariance(percentage, images):\n",
        "    # percentage should be a decimal from 0 to 1\n",
        "    pca = PCA(percentage)\n",
        "    pca.fit(images)\n",
        "    PC = pca.transform(images)"
      ]
    },
    {
      "cell_type": "code",
      "execution_count": null,
      "metadata": {
        "id": "6oJJBV1EOSSu"
      },
      "outputs": [],
      "source": [
        "PC999 = RetainedVariance(.999, X_flat)\n",
        "PC990 = RetainedVariance(.99, X_flat)\n",
        "PC950 = RetainedVariance(.95, X_flat)\n",
        "PC900 = RetainedVariance(.90, X_flat)"
      ]
    },
    {
      "cell_type": "code",
      "execution_count": null,
      "metadata": {
        "id": "zknY773XM3ER"
      },
      "outputs": [],
      "source": [
        "X_size_bytes = sys.getsizeof(X_flat)\n",
        "\n",
        "# Convert bytes to megabytes\n",
        "X_size_kilobytes = X_size_bytes / 1024\n",
        "\n",
        "print(f\"Array size: {X_size_kilobytes:.2f} KB\")"
      ]
    },
    {
      "cell_type": "code",
      "execution_count": null,
      "metadata": {
        "id": "mjT5PC5sNGr3"
      },
      "outputs": [],
      "source": [
        "PC_size_bytes = sys.getsizeof(PC)\n",
        "\n",
        "# Convert bytes to megabytes\n",
        "PC_size_kilobytes = PC_size_bytes / 1024\n",
        "\n",
        "print(f\"Array size: {PC_size_kilobytes:.2f} KB\")"
      ]
    },
    {
      "cell_type": "code",
      "source": [
        "DMD_dyn_size_bytes = sys.getsizeof(dmd.dynamics)\n",
        "\n",
        "# Convert bytes to megabytes\n",
        "DMD_dyn_size_kilobytes = DMD_dyn_size_bytes / 1024\n",
        "\n",
        "print(f\"Array size: {DMD_dyn_size_kilobytes:.2f} KB\")"
      ],
      "metadata": {
        "id": "e7WmPpgW4KRT"
      },
      "execution_count": null,
      "outputs": []
    },
    {
      "cell_type": "code",
      "source": [
        "DMD_modes_size_bytes = sys.getsizeof(dmd.modes)\n",
        "\n",
        "# Convert bytes to megabytes\n",
        "DMD_modes_size_kilobytes = DMD_modes_size_bytes / 1024\n",
        "\n",
        "print(f\"Array size: {DMD_modes_size_kilobytes:.2f} KB\")"
      ],
      "metadata": {
        "id": "FQP3_WPN4QWk"
      },
      "execution_count": null,
      "outputs": []
    },
    {
      "cell_type": "code",
      "source": [
        "PDMD_dyn_size_bytes = sys.getsizeof(dmdpca.dynamics)\n",
        "\n",
        "# Convert bytes to megabytes\n",
        "PDMD_dyn_size_kilobytes = PDMD_dyn_size_bytes / 1024\n",
        "\n",
        "print(f\"Array size: {PDMD_dyn_size_kilobytes:.2f} KB\")"
      ],
      "metadata": {
        "id": "ckwejNT94V9i"
      },
      "execution_count": null,
      "outputs": []
    },
    {
      "cell_type": "code",
      "source": [
        "pDMD_modes_size_bytes = sys.getsizeof(dmdpca.modes)\n",
        "\n",
        "# Convert bytes to megabytes\n",
        "pDMD_modes_size_kilobytes = pDMD_modes_size_bytes / 1024\n",
        "\n",
        "print(f\"Array size: {pDMD_modes_size_kilobytes:.2f} KB\")"
      ],
      "metadata": {
        "id": "C20LE0dx4bfD"
      },
      "execution_count": null,
      "outputs": []
    },
    {
      "cell_type": "code",
      "execution_count": null,
      "metadata": {
        "id": "hPhAON9OQaC2"
      },
      "outputs": [],
      "source": [
        "PC.shape"
      ]
    },
    {
      "cell_type": "code",
      "execution_count": null,
      "metadata": {
        "id": "ItamlDHRQL7b"
      },
      "outputs": [],
      "source": [
        "PC_size_bytes = sys.getsizeof(PC)\n",
        "\n",
        "# Convert bytes to megabytes\n",
        "PC_size_kilobytes = PC_size_bytes\n",
        "\n",
        "print(f\"Array size: {PC_size_kilobytes:.2f} KB\")"
      ]
    },
    {
      "cell_type": "code",
      "execution_count": null,
      "metadata": {
        "id": "p0Qg3HjzThKh"
      },
      "outputs": [],
      "source": [
        "import timeit\n",
        "import psutil\n",
        "\n",
        "!pip install ipython-autotime\n",
        "%load_ext autotime\n",
        "\n",
        "!pip install memory_profiler\n",
        "from memory_profiler import memory_usage"
      ]
    },
    {
      "cell_type": "code",
      "execution_count": null,
      "metadata": {
        "id": "HtDcyvRlUa6P"
      },
      "outputs": [],
      "source": [
        "external_variable = velocity_magnitude_2D_array\n",
        "\n",
        "code_block = \"\"\"\n",
        "# Access the external variables or dependencies here\n",
        "print(external_variable_1)\n",
        "\n",
        "Z = external_variable\n",
        "\n",
        "# Perform DMD\n",
        "pdmd = DMD(svd_rank=560)\n",
        "pdmd.fit(Z)\n",
        "\n",
        "# Access DMD modes and dynamics\n",
        "pmodes = pdmd.modes.T\n",
        "pdynamics = pdmd.dynamics\n",
        "\n",
        "# Visualize DMD modes and dynamics\n",
        "plt.figure(figsize=(12, 4))\n",
        "\n",
        "# Plot DMD modes\n",
        "plt.subplot(1, 2, 1)\n",
        "for mode in pmodes:\n",
        "    plt.plot(mode)\n",
        "plt.title('DMD Modes')\n",
        "\n",
        "# Plot DMD dynamics\n",
        "plt.subplot(1, 2, 2)\n",
        "for dynamic in pdynamics:\n",
        "    plt.plot(dynamic)\n",
        "plt.title('DMD Dynamics')\n",
        "\n",
        "plt.tight_layout()\n",
        "plt.show()\n",
        "\"\"\"\n",
        "\n",
        "execution_times = []\n",
        "#memory_usage = []\n",
        "\n",
        "# Execute the code block 10 times and measure the execution time and RAM requirements\n",
        "for _ in range(100):\n",
        "    process = psutil.Process()\n",
        "    #process_memory_before = process.memory_info().rss\n",
        "\n",
        "    # Create a setup statement to define the local namespace with the external variables\n",
        "    setup_statement = f\"from __main__ import external_variable_1\"\n",
        "\n",
        "    # Measure the execution time\n",
        "    execution_time = timeit.timeit(stmt=code_block, setup=setup_statement, globals=globals(), number=1)\n",
        "\n",
        "    # Measure the memory usage\n",
        "    #process_memory_after = process.memory_info().rss\n",
        "    #memory_usage.append(process_memory_after - process_memory_before)\n",
        "\n",
        "    # Store the execution time\n",
        "    execution_times.append(execution_time)\n",
        "\n",
        "# Calculate the average execution time and RAM usage\n",
        "average_execution_time = sum(execution_times) / len(execution_times)\n",
        "#average_memory_usage = sum(memory_usage) / len(memory_usage)\n",
        "\n",
        "# Print the average execution time and RAM usage\n",
        "print(\"Average Execution Time: {:.6f} seconds\".format(average_execution_time))\n",
        "#print(\"Average RAM Usage: {:.2f} bytes\".format(average_memory_usage))"
      ]
    },
    {
      "cell_type": "code",
      "execution_count": null,
      "metadata": {
        "id": "WoZEA9kcSsJZ"
      },
      "outputs": [],
      "source": [
        "external_variable_1 = PC\n",
        "\n",
        "# Code block to measure execution time and RAM requirements\n",
        "code_block = \"\"\"\n",
        "# Access the external variables or dependencies here\n",
        "print(external_variable_1)\n",
        "\n",
        "Z = PC.T\n",
        "\n",
        "# Perform DMD\n",
        "pdmd = DMD(svd_rank=0)\n",
        "pdmd.fit(Z)\n",
        "\n",
        "# Access DMD modes and dynamics\n",
        "pmodes = pdmd.modes.T\n",
        "pdynamics = pdmd.dynamics\n",
        "\n",
        "# Visualize DMD modes and dynamics\n",
        "plt.figure(figsize=(12, 4))\n",
        "\n",
        "# Plot DMD modes\n",
        "plt.subplot(1, 2, 1)\n",
        "for mode in pmodes:\n",
        "    plt.plot(mode)\n",
        "plt.title('DMD Modes')\n",
        "\n",
        "# Plot DMD dynamics\n",
        "plt.subplot(1, 2, 2)\n",
        "for dynamic in pdynamics:\n",
        "    plt.plot(dynamic)\n",
        "plt.title('DMD Dynamics')\n",
        "\n",
        "plt.tight_layout()\n",
        "plt.show()\n",
        "\"\"\"\n",
        "\n",
        "execution_times = []\n",
        "#memory_usage = []\n",
        "\n",
        "# Execute the code block 10 times and measure the execution time and RAM requirements\n",
        "for _ in range(100):\n",
        "    process = psutil.Process()\n",
        "    #process_memory_before = process.memory_info().rss\n",
        "\n",
        "    # Create a setup statement to define the local namespace with the external variables\n",
        "    setup_statement = f\"from __main__ import external_variable_1\"\n",
        "\n",
        "    # Measure the execution time\n",
        "    execution_time = timeit.timeit(stmt=code_block, setup=setup_statement, globals=globals(), number=1)\n",
        "\n",
        "    # Measure the memory usage\n",
        "    #process_memory_after = process.memory_info().rss\n",
        "    #memory_usage.append(process_memory_after - process_memory_before)\n",
        "\n",
        "    # Store the execution time\n",
        "    execution_times.append(execution_time)\n",
        "\n",
        "# Calculate the average execution time and RAM usage\n",
        "average_execution_time = sum(execution_times) / len(execution_times)\n",
        "#average_memory_usage = sum(memory_usage) / len(memory_usage)\n",
        "\n",
        "# Print the average execution time and RAM usage\n",
        "print(\"Average Execution Time: {:.6f} seconds\".format(average_execution_time))\n",
        "#print(\"Average RAM Usage: {:.2f} bytes\".format(average_memory_usage))\n"
      ]
    },
    {
      "cell_type": "code",
      "execution_count": null,
      "metadata": {
        "id": "MZl5xpI2xXuI"
      },
      "outputs": [],
      "source": [
        "PC.shape"
      ]
    },
    {
      "cell_type": "code",
      "execution_count": null,
      "metadata": {
        "id": "wCStS0ufpVX0"
      },
      "outputs": [],
      "source": [
        "#99.9 percent\n",
        "\n",
        "external_variable_1 = PC\n",
        "\n",
        "# Code block to measure execution time and RAM requirements\n",
        "code_block = \"\"\"\n",
        "# Access the external variables or dependencies here\n",
        "print(external_variable_1)\n",
        "\n",
        "Z = PC.T\n",
        "\n",
        "# Perform DMD\n",
        "pdmd = DMD(svd_rank=0)\n",
        "pdmd.fit(Z)\n",
        "\n",
        "# Access DMD modes and dynamics\n",
        "pmodes = pdmd.modes.T\n",
        "pdynamics = pdmd.dynamics\n",
        "\n",
        "# Visualize DMD modes and dynamics\n",
        "plt.figure(figsize=(12, 4))\n",
        "\n",
        "# Plot DMD modes\n",
        "plt.subplot(1, 2, 1)\n",
        "for mode in pmodes:\n",
        "    plt.plot(mode)\n",
        "plt.title('DMD Modes')\n",
        "\n",
        "# Plot DMD dynamics\n",
        "plt.subplot(1, 2, 2)\n",
        "for dynamic in pdynamics:\n",
        "    plt.plot(dynamic)\n",
        "plt.title('DMD Dynamics')\n",
        "\n",
        "plt.tight_layout()\n",
        "plt.show()\n",
        "\"\"\"\n",
        "\n",
        "execution_times = []\n",
        "#memory_usage = []\n",
        "\n",
        "# Execute the code block 10 times and measure the execution time and RAM requirements\n",
        "for repetition in range(100):\n",
        "    process = psutil.Process()\n",
        "    #process_memory_before = process.memory_info().rss\n",
        "\n",
        "    # Create a setup statement to define the local namespace with the external variables\n",
        "    setup_statement = f\"from __main__ import external_variable_1\"\n",
        "\n",
        "    # Measure the execution time\n",
        "    execution_time = timeit.timeit(stmt=code_block, setup=setup_statement, globals=globals(), number=1)\n",
        "\n",
        "    print(\"Repetition:\", repetition + 1)\n",
        "\n",
        "    # Store the execution time\n",
        "    execution_times.append(execution_time)\n",
        "\n",
        "# Calculate the average execution time and RAM usage\n",
        "average_execution_time = sum(execution_times) / len(execution_times)\n",
        "#average_memory_usage = sum(memory_usage) / len(memory_usage)\n",
        "\n",
        "# Print the average execution time and RAM usage\n",
        "print(\"Average Execution Time: {:.6f} seconds\".format(average_execution_time))\n",
        "#print(\"Average RAM Usage: {:.2f} bytes\".format(average_memory_usage))"
      ]
    },
    {
      "cell_type": "code",
      "execution_count": null,
      "metadata": {
        "id": "fSjj1shuxmW-"
      },
      "outputs": [],
      "source": [
        "#99.0 percent\n",
        "\n",
        "external_variable_1 = PC\n",
        "\n",
        "# Code block to measure execution time and RAM requirements\n",
        "code_block = \"\"\"\n",
        "# Access the external variables or dependencies here\n",
        "print(external_variable_1)\n",
        "\n",
        "Z = PC.T\n",
        "\n",
        "# Perform DMD\n",
        "pdmd = DMD(svd_rank=0)\n",
        "pdmd.fit(Z)\n",
        "\n",
        "# Access DMD modes and dynamics\n",
        "pmodes = pdmd.modes.T\n",
        "pdynamics = pdmd.dynamics\n",
        "\n",
        "# Visualize DMD modes and dynamics\n",
        "plt.figure(figsize=(12, 4))\n",
        "\n",
        "# Plot DMD modes\n",
        "plt.subplot(1, 2, 1)\n",
        "for mode in pmodes:\n",
        "    plt.plot(mode)\n",
        "plt.title('DMD Modes')\n",
        "\n",
        "# Plot DMD dynamics\n",
        "plt.subplot(1, 2, 2)\n",
        "for dynamic in pdynamics:\n",
        "    plt.plot(dynamic)\n",
        "plt.title('DMD Dynamics')\n",
        "\n",
        "plt.tight_layout()\n",
        "plt.show()\n",
        "\"\"\"\n",
        "\n",
        "execution_times = []\n",
        "#memory_usage = []\n",
        "\n",
        "# Execute the code block 10 times and measure the execution time and RAM requirements\n",
        "for repetition in range(100):\n",
        "    process = psutil.Process()\n",
        "    #process_memory_before = process.memory_info().rss\n",
        "\n",
        "    # Create a setup statement to define the local namespace with the external variables\n",
        "    setup_statement = f\"from __main__ import external_variable_1\"\n",
        "\n",
        "    # Measure the execution time\n",
        "    execution_time = timeit.timeit(stmt=code_block, setup=setup_statement, globals=globals(), number=1)\n",
        "\n",
        "    print(\"Repetition:\", repetition + 1)\n",
        "\n",
        "    # Store the execution time\n",
        "    execution_times.append(execution_time)\n",
        "\n",
        "# Calculate the average execution time and RAM usage\n",
        "average_execution_time = sum(execution_times) / len(execution_times)\n",
        "#average_memory_usage = sum(memory_usage) / len(memory_usage)\n",
        "\n",
        "# Print the average execution time and RAM usage\n",
        "print(\"Average Execution Time: {:.6f} seconds\".format(average_execution_time))\n",
        "#print(\"Average RAM Usage: {:.2f} bytes\".format(average_memory_usage))"
      ]
    },
    {
      "cell_type": "code",
      "execution_count": null,
      "metadata": {
        "id": "fPHFnRPozT3q"
      },
      "outputs": [],
      "source": [
        "#95.0 percent\n",
        "\n",
        "external_variable_1 = PC\n",
        "\n",
        "# Code block to measure execution time and RAM requirements\n",
        "code_block = \"\"\"\n",
        "# Access the external variables or dependencies here\n",
        "print(external_variable_1)\n",
        "\n",
        "Z = PC.T\n",
        "\n",
        "# Perform DMD\n",
        "pdmd = DMD(svd_rank=0)\n",
        "pdmd.fit(Z)\n",
        "\n",
        "# Access DMD modes and dynamics\n",
        "pmodes = pdmd.modes.T\n",
        "pdynamics = pdmd.dynamics\n",
        "\n",
        "# Visualize DMD modes and dynamics\n",
        "plt.figure(figsize=(12, 4))\n",
        "\n",
        "# Plot DMD modes\n",
        "plt.subplot(1, 2, 1)\n",
        "for mode in pmodes:\n",
        "    plt.plot(mode)\n",
        "plt.title('DMD Modes')\n",
        "\n",
        "# Plot DMD dynamics\n",
        "plt.subplot(1, 2, 2)\n",
        "for dynamic in pdynamics:\n",
        "    plt.plot(dynamic)\n",
        "plt.title('DMD Dynamics')\n",
        "\n",
        "plt.tight_layout()\n",
        "plt.show()\n",
        "\"\"\"\n",
        "\n",
        "execution_times = []\n",
        "#memory_usage = []\n",
        "\n",
        "# Execute the code block 10 times and measure the execution time and RAM requirements\n",
        "for repetition in range(100):\n",
        "    process = psutil.Process()\n",
        "    #process_memory_before = process.memory_info().rss\n",
        "\n",
        "    # Create a setup statement to define the local namespace with the external variables\n",
        "    setup_statement = f\"from __main__ import external_variable_1\"\n",
        "\n",
        "    # Measure the execution time\n",
        "    execution_time = timeit.timeit(stmt=code_block, setup=setup_statement, globals=globals(), number=1)\n",
        "\n",
        "    print(\"Repetition:\", repetition + 1)\n",
        "\n",
        "    # Store the execution time\n",
        "    execution_times.append(execution_time)\n",
        "\n",
        "# Calculate the average execution time and RAM usage\n",
        "average_execution_time = sum(execution_times) / len(execution_times)\n",
        "#average_memory_usage = sum(memory_usage) / len(memory_usage)\n",
        "\n",
        "# Print the average execution time and RAM usage\n",
        "print(\"Average Execution Time: {:.6f} seconds\".format(average_execution_time))\n",
        "#print(\"Average RAM Usage: {:.2f} bytes\".format(average_memory_usage))"
      ]
    },
    {
      "cell_type": "code",
      "execution_count": null,
      "metadata": {
        "id": "dNm9BQtk0jFU"
      },
      "outputs": [],
      "source": [
        "#90.0 percent\n",
        "\n",
        "external_variable_1 = PC\n",
        "\n",
        "# Code block to measure execution time and RAM requirements\n",
        "code_block = \"\"\"\n",
        "# Access the external variables or dependencies here\n",
        "print(external_variable_1)\n",
        "\n",
        "Z = PC.T\n",
        "\n",
        "# Perform DMD\n",
        "pdmd = DMD(svd_rank=0)\n",
        "pdmd.fit(Z)\n",
        "\n",
        "# Access DMD modes and dynamics\n",
        "pmodes = pdmd.modes.T\n",
        "pdynamics = pdmd.dynamics\n",
        "\n",
        "# Visualize DMD modes and dynamics\n",
        "plt.figure(figsize=(12, 4))\n",
        "\n",
        "# Plot DMD modes\n",
        "plt.subplot(1, 2, 1)\n",
        "for mode in pmodes:\n",
        "    plt.plot(mode)\n",
        "plt.title('DMD Modes')\n",
        "\n",
        "# Plot DMD dynamics\n",
        "plt.subplot(1, 2, 2)\n",
        "for dynamic in pdynamics:\n",
        "    plt.plot(dynamic)\n",
        "plt.title('DMD Dynamics')\n",
        "\n",
        "plt.tight_layout()\n",
        "plt.show()\n",
        "\"\"\"\n",
        "\n",
        "execution_times = []\n",
        "#memory_usage = []\n",
        "\n",
        "# Execute the code block 10 times and measure the execution time and RAM requirements\n",
        "for repetition in range(100):\n",
        "    process = psutil.Process()\n",
        "    #process_memory_before = process.memory_info().rss\n",
        "\n",
        "    # Create a setup statement to define the local namespace with the external variables\n",
        "    setup_statement = f\"from __main__ import external_variable_1\"\n",
        "\n",
        "    # Measure the execution time\n",
        "    execution_time = timeit.timeit(stmt=code_block, setup=setup_statement, globals=globals(), number=1)\n",
        "\n",
        "    print(\"Repetition:\", repetition + 1)\n",
        "\n",
        "    # Store the execution time\n",
        "    execution_times.append(execution_time)\n",
        "\n",
        "# Calculate the average execution time and RAM usage\n",
        "average_execution_time = sum(execution_times) / len(execution_times)\n",
        "#average_memory_usage = sum(memory_usage) / len(memory_usage)\n",
        "\n",
        "# Print the average execution time and RAM usage\n",
        "print(\"Average Execution Time: {:.6f} seconds\".format(average_execution_time))\n",
        "#print(\"Average RAM Usage: {:.2f} bytes\".format(average_memory_usage))"
      ]
    },
    {
      "cell_type": "code",
      "execution_count": null,
      "metadata": {
        "id": "PK-imn40XlnU"
      },
      "outputs": [],
      "source": [
        "\n",
        "# Sample data for x and y components\n",
        "data = {'x': [0, 396, 470, 544],\n",
        "        'y': [2.205134, 0.990232, 0.746199, 0.634631]}\n",
        "\n",
        "# Creating a DataFrame\n",
        "df = pd.DataFrame(data)\n",
        "\n",
        "print(df)\n"
      ]
    },
    {
      "cell_type": "code",
      "execution_count": null,
      "metadata": {
        "id": "HoxboDSLcSqQ"
      },
      "outputs": [],
      "source": [
        "import pandas as pd\n",
        "import matplotlib.pyplot as plt\n",
        "import numpy as np\n",
        "\n",
        "# Sample data for x and y coordinates\n",
        "data = {'x': [0, 396, 470, 544],\n",
        "        'y': [2.205134, 0.990232, 0.746199, 0.634631]}\n",
        "\n",
        "# Creating a DataFrame\n",
        "df = pd.DataFrame(data)\n"
      ]
    },
    {
      "cell_type": "code",
      "execution_count": null,
      "metadata": {
        "id": "JR0OQOUGdHxF"
      },
      "outputs": [],
      "source": [
        "coefficients = np.polyfit(df['x'], df['y'], 1)  # Fit a first-degree polynomial (line)\n",
        "slope = coefficients[0]\n",
        "intercept = coefficients[1]\n",
        "\n",
        "# Calculate the R-squared value\n",
        "y_pred = slope * df['x'] + intercept\n",
        "residuals = df['y'] - y_pred\n",
        "ss_residuals = np.sum(residuals ** 2)\n",
        "ss_total = np.sum((df['y'] - np.mean(df['y'])) ** 2)\n",
        "r_squared = 1 - (ss_residuals / ss_total)"
      ]
    },
    {
      "cell_type": "code",
      "execution_count": null,
      "metadata": {
        "id": "mdv-aNPudT0Z"
      },
      "outputs": [],
      "source": [
        "plt.figure(figsize=(8, 6))\n",
        "plt.scatter(df['x'], df['y'], color='black', label='Data Points')\n",
        "\n",
        "# Equation of the line\n",
        "x_vals = np.linspace(0, 600, 100)\n",
        "y_vals = slope * x_vals + intercept\n",
        "plt.plot(x_vals, y_vals, color='blue', linestyle='--', label='y = -0.00295x + 2.2')\n",
        "\n",
        "# Labels and legend\n",
        "plt.title('')\n",
        "plt.xlabel('Number of Components Removed')\n",
        "plt.ylabel('Average Execution Time')\n",
        "#plt.legend()\n",
        "\n",
        "plt.grid(True)\n",
        "plt.tight_layout()\n",
        "plt.show()\n",
        "\n",
        "print(f'Equation of the best fit line: y = {slope:.4f}x + {intercept:.4f}')\n",
        "print(f'R-squared value: {r_squared:.4f}')"
      ]
    }
  ],
  "metadata": {
    "colab": {
      "provenance": []
    },
    "kernelspec": {
      "display_name": "Python 3",
      "name": "python3"
    },
    "language_info": {
      "name": "python"
    }
  },
  "nbformat": 4,
  "nbformat_minor": 0
}
{
  "nbformat": 4,
  "nbformat_minor": 0,
  "metadata": {
    "colab": {
      "provenance": []
    },
    "kernelspec": {
      "name": "python3",
      "display_name": "Python 3"
    },
    "language_info": {
      "name": "python"
    }
  },
  "cells": [
    {
      "cell_type": "code",
      "execution_count": null,
      "metadata": {
        "id": "Iyj7RmRD0KYo"
      },
      "outputs": [],
      "source": [
        "!pip install scipy\n",
        "!pip install matplotlib\n",
        "!pip install pydmd\n",
        "!pip install pykoopman\n",
        "!pip install imageio\n",
        "!pip install os\n",
        "!pip install optht\n",
        "!pip install derivative\n",
        "!pip install lightning\n",
        "!pip install imread\n",
        "!pip install future\n",
        "!pip install sphinx\n",
        "\n",
        "\n",
        "import os\n",
        "import matplotlib.pyplot as plt\n",
        "import warnings\n",
        "import scipy\n",
        "import imageio\n",
        "warnings.filterwarnings('ignore')\n",
        "\n",
        "from pydmd import DMD\n",
        "from matplotlib import animation\n",
        "from IPython.display import HTML\n",
        "import numpy as np\n",
        "from os import listdir\n",
        "import pykoopman as pk\n",
        "import pandas as pd\n",
        "from imread import imread\n",
        "\n",
        "%matplotlib inline\n",
        "\n",
        "import future\n",
        "import sphinx\n",
        "\n",
        "from sklearn.decomposition import PCA\n",
        "\n",
        "\n",
        "from sklearn.preprocessing import StandardScaler\n",
        "from pydmd import DMDc\n",
        "from numpy.testing import assert_array_almost_equal\n",
        "\n",
        "from numpy import linalg as LA\n",
        "from pydmd import CDMD\n",
        "\n",
        "from sklearn.datasets import fetch_openml\n",
        "import sys\n",
        "import cv2 as cv\n",
        "import plotly.io as pio\n",
        "import plotly.graph_objs as go\n",
        "from PIL import Image\n",
        "from skimage import color\n",
        "from plotly import subplots\n",
        "from sklearn.model_selection import train_test_split\n",
        "pio.renderers.default = \"colab\"\n",
        "from sklearn.decomposition import SparsePCA\n",
        "import seaborn as sns"
      ]
    },
    {
      "cell_type": "code",
      "source": [
        "IMG_DIR = '/content/clock'\n",
        "X = []\n",
        "X_flat = []\n",
        "count = 1\n",
        "size1 = 320\n",
        "size2 = 148\n",
        "total = 140\n",
        "print(\"Loading...\")\n",
        "\n",
        "for img in sorted(os.listdir(IMG_DIR)):\n",
        "    if count == total + 1:\n",
        "        break\n",
        "    sys.stdout.write(\"\\r\" + str(count) + \" / \" + str(total))\n",
        "    sys.stdout.flush()\n",
        "    img_array = cv.imread(os.path.join(IMG_DIR, img), cv.IMREAD_GRAYSCALE,)\n",
        "    img_pil = Image.fromarray(img_array)\n",
        "    img_156x120 = np.array(img_pil.resize((size1, size2), Image.ANTIALIAS))\n",
        "    X.append(img_156x120)\n",
        "    img_array = img_156x120.flatten()\n",
        "    X_flat.append(img_array)\n",
        "    count += 1\n",
        "print()\n",
        "print(\"Done!\")"
      ],
      "metadata": {
        "id": "4y4O4mKB16qj"
      },
      "execution_count": null,
      "outputs": []
    },
    {
      "cell_type": "code",
      "source": [
        "X_flat = np.asarray(X_flat)\n",
        "X_flat.shape"
      ],
      "metadata": {
        "id": "lJvK5xzy2IAa"
      },
      "execution_count": null,
      "outputs": []
    },
    {
      "cell_type": "code",
      "source": [
        "plt.figure(figsize=(10,5));\n",
        "#plt.imshow(X_flat[89].reshape(148, 320), cmap = plt.cm.gray, interpolation='nearest',\n",
        "#              clim=(0, 255));\n",
        "#plt.axis('off');\n",
        "#plt.tight_layout()\n",
        "\n",
        "plt.figure(figsize=(8,4));\n",
        "plt.imshow(X_flat[89].reshape(148, 320), cmap = plt.cm.gray, interpolation='nearest', clim=(0, 255));"
      ],
      "metadata": {
        "id": "a2YpjI2ywEeu"
      },
      "execution_count": null,
      "outputs": []
    },
    {
      "cell_type": "code",
      "source": [
        "#pca = PCA(0.95)"
      ],
      "metadata": {
        "id": "BwVm4rFDbfXl"
      },
      "execution_count": null,
      "outputs": []
    },
    {
      "cell_type": "code",
      "source": [
        "PC = pca.fit_transform(X_flat)\n",
        "eigenvalues = pca.explained_variance_\n",
        "explained_variance_ratio = pca.explained_variance_ratio_"
      ],
      "metadata": {
        "id": "8ihk6QJ12R6y"
      },
      "execution_count": null,
      "outputs": []
    },
    {
      "cell_type": "code",
      "source": [
        "PC.shape"
      ],
      "metadata": {
        "id": "lb5VsIk2vtKi"
      },
      "execution_count": null,
      "outputs": []
    },
    {
      "cell_type": "code",
      "source": [
        "num_components = len(explained_variance_ratio)\n",
        "plt.bar(range(1, num_components + 1), explained_variance_ratio)\n",
        "plt.xlabel('Principal Component')\n",
        "plt.ylabel('Explained Variance Ratio')\n",
        "plt.title('Scree Plot')\n",
        "plt.show()\n",
        "\n",
        "# Summary table\n",
        "cumulative_explained_variance_ratio = np.cumsum(explained_variance_ratio)\n",
        "summary_table = np.column_stack((range(1, num_components + 1), explained_variance_ratio, cumulative_explained_variance_ratio))\n",
        "print('PC\\tExplained Variance Ratio\\tCumulative Explained Variance Ratio')\n",
        "for row in summary_table:\n",
        "    print('\\t'.join(str(x) for x in row))"
      ],
      "metadata": {
        "id": "o2hjHq0mdqAJ"
      },
      "execution_count": null,
      "outputs": []
    },
    {
      "cell_type": "code",
      "source": [
        "PC1 = PC[0:104]\n",
        "PC1.shape"
      ],
      "metadata": {
        "id": "CKLgkBk8dzF_"
      },
      "execution_count": null,
      "outputs": []
    },
    {
      "cell_type": "code",
      "source": [
        "Z = PC.T\n",
        "\n",
        "# Perform DMD\n",
        "dmd = DMD(svd_rank=52)\n",
        "dmd.fit(Z)\n",
        "\n",
        "# Access DMD modes and dynamics\n",
        "modes = dmd.modes.T\n",
        "dynamics = dmd.dynamics\n",
        "\n",
        "# Visualize DMD modes and dynamics\n",
        "plt.figure(figsize=(12, 4))\n",
        "\n",
        "# Plot DMD modes\n",
        "plt.subplot(1, 2, 1)\n",
        "for mode in modes:\n",
        "    plt.plot(mode)\n",
        "plt.title('DMD Modes')\n",
        "\n",
        "# Plot DMD dynamics\n",
        "plt.subplot(1, 2, 2)\n",
        "for dynamic in dynamics:\n",
        "    plt.plot(dynamic)\n",
        "plt.title('DMD Dynamics')\n",
        "\n",
        "plt.tight_layout()\n",
        "plt.show()"
      ],
      "metadata": {
        "id": "VLTcpfmo2Vxx"
      },
      "execution_count": null,
      "outputs": []
    },
    {
      "cell_type": "code",
      "source": [
        "dmd_x = DMD(svd_rank=140)\n",
        "dmd_x.fit(X_flat.T)\n",
        "\n",
        "for dynamic in dmd_x.dynamics:\n",
        "    plt.plot(dynamic)\n",
        "plt.xlim(0, 60)\n",
        "plt.ylim(-4000, 4000)\n",
        "plt.title('DMD Dynamics')"
      ],
      "metadata": {
        "id": "x-PeisCT_2Zu"
      },
      "execution_count": null,
      "outputs": []
    },
    {
      "cell_type": "code",
      "source": [
        "def explainedVariance(percentage, images):\n",
        "    # percentage should be a decimal from 0 to 1\n",
        "    pca = PCA(percentage)\n",
        "    pca.fit(images)\n",
        "    components = pca.transform(images)\n",
        "    dmd = DMD(svd_rank=140)\n",
        "    dmd.fit(components.T)\n",
        "    approxOriginal = pca.inverse_transform(dmd.reconstructed_data.T)\n",
        "    approxOriginal = approxOriginal.T.astype(np.float)\n",
        "    return approxOriginal"
      ],
      "metadata": {
        "id": "IY7c3GWRg-UK"
      },
      "execution_count": null,
      "outputs": []
    },
    {
      "cell_type": "code",
      "source": [
        "x_recon = dmd.reconstructed_data.T\n",
        "x_recon = pca.inverse_transform(x_recon)\n",
        "x_recon = x_recon.astype(np.float)"
      ],
      "metadata": {
        "id": "vzfPtliD2jzq"
      },
      "execution_count": null,
      "outputs": []
    },
    {
      "cell_type": "code",
      "source": [
        "approximate = dmd.reconstructed_data.T\n",
        "approximate = approximate.astype(np.float)"
      ],
      "metadata": {
        "id": "3X1cujmNsx3k"
      },
      "execution_count": null,
      "outputs": []
    },
    {
      "cell_type": "code",
      "source": [
        "x_recon.shape"
      ],
      "metadata": {
        "id": "_Wntyo6HukKb"
      },
      "execution_count": null,
      "outputs": []
    },
    {
      "cell_type": "code",
      "source": [
        "plt.figure(figsize=(8,4));\n",
        "\n",
        "# Original Image\n",
        "plt.subplot(1, 2, 1);\n",
        "plt.imshow(X_flat[3].reshape(148,320),\n",
        "              cmap = plt.cm.gray, interpolation='nearest',\n",
        "              clim=(0, 255));\n",
        "plt.xlabel('', fontsize = 14)\n",
        "plt.title('Original Image', fontsize = 20);\n",
        "\n",
        "# 154 principal components\n",
        "plt.subplot(1, 2, 2);\n",
        "plt.imshow(x_recon.T[3].reshape(148, 320),\n",
        "              cmap = plt.cm.gray, interpolation='nearest',\n",
        "              clim=(0, 255));\n",
        "plt.xlabel('', fontsize = 14)\n",
        "plt.title('DMD Reconstruction', fontsize = 20);"
      ],
      "metadata": {
        "id": "Q17CC37u4wBG"
      },
      "execution_count": null,
      "outputs": []
    },
    {
      "cell_type": "code",
      "source": [
        "plt.figure(figsize=(20,4));\n",
        "\n",
        "plt.subplot(1, 5, 1);\n",
        "plt.imshow(explainedVariance(.80, X_flat)[:,1].reshape(148, 320),\n",
        "              cmap = plt.cm.gray, interpolation='nearest',\n",
        "              clim=(0, 255));\n",
        "plt.xlabel('15 Components', fontsize = 12)\n",
        "plt.title('80% of Explained Variance', fontsize = 14);\n",
        "\n",
        "# 154 principal components\n",
        "plt.subplot(1, 5, 2);\n",
        "plt.imshow(explainedVariance(.9, X_flat)[:,1].reshape(148, 320),\n",
        "              cmap = plt.cm.gray, interpolation='nearest',\n",
        "              clim=(0, 255));\n",
        "plt.xlabel('34 Components', fontsize = 12)\n",
        "plt.title('90% of Explained Variance', fontsize = 14);\n",
        "\n",
        "plt.subplot(1, 5, 3);\n",
        "plt.imshow(explainedVariance(.95, X_flat)[:,1].reshape(148, 320),\n",
        "              cmap = plt.cm.gray, interpolation='nearest',\n",
        "              clim=(0, 255));\n",
        "plt.xlabel('52 Components', fontsize = 12)\n",
        "plt.title('95% of Explained Variance', fontsize = 14);\n",
        "\n",
        "plt.subplot(1, 5, 4);\n",
        "plt.imshow(explainedVariance(.99, X_flat)[:,1].reshape(148, 320),\n",
        "              cmap = plt.cm.gray, interpolation='nearest',\n",
        "              clim=(0, 255));\n",
        "plt.xlabel('104 Components', fontsize = 12)\n",
        "plt.title('99% of Explained Variance', fontsize = 14);\n",
        "\n",
        "# Original Image\n",
        "plt.subplot(1, 5, 5);\n",
        "plt.imshow(X_flat[1].reshape(148,320),\n",
        "              cmap = plt.cm.gray, interpolation='nearest',\n",
        "              clim=(0, 255));\n",
        "plt.xlabel('', fontsize = 14)\n",
        "plt.title('Original Image', fontsize = 20);"
      ],
      "metadata": {
        "id": "xVl3eMjpheRD"
      },
      "execution_count": null,
      "outputs": []
    },
    {
      "cell_type": "code",
      "source": [
        "i = 0\n",
        "total = 140\n",
        "\n",
        "for i in range(0, 140, 1):\n",
        "    if i == total + 1:\n",
        "       break\n",
        "    images_dir = '/content/ReconstructionClock95'\n",
        "    plt.figure(figsize=(8,4));\n",
        "    plt.imshow(x_recon[i].reshape(148, 320),\n",
        "              cmap = plt.cm.gray, interpolation='nearest',\n",
        "              clim=(0, 255));\n",
        "    plt.savefig(f\"{images_dir}/label{[i]}.png\")\n",
        "    #plt.savefig('approximate[i].png')"
      ],
      "metadata": {
        "id": "bOxvsh_-tDEV"
      },
      "execution_count": null,
      "outputs": []
    },
    {
      "cell_type": "code",
      "source": [
        "import shutil\n",
        "shutil.make_archive('/content/ReconstructionClock95', 'zip', '/content/ReconstructionClock95')"
      ],
      "metadata": {
        "id": "pg4fgInctrcQ"
      },
      "execution_count": null,
      "outputs": []
    },
    {
      "cell_type": "code",
      "source": [
        "plt.figure(figsize=(10,5));\n",
        "plt.imshow(x_recon[89].reshape(148, 320), cmap = plt.cm.gray, interpolation='nearest',\n",
        "              clim=(0, 255));\n",
        "plt.axis('off');\n",
        "plt.tight_layout()"
      ],
      "metadata": {
        "id": "5HQrcp8atkgs"
      },
      "execution_count": null,
      "outputs": []
    }
  ]
}